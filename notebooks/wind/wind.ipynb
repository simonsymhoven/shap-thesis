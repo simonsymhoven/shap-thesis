{
 "cells": [
  {
   "cell_type": "markdown",
   "metadata": {},
   "source": [
    "# Wind Speed Prediction"
   ]
  },
  {
   "cell_type": "markdown",
   "metadata": {},
   "source": [
    "## Imports"
   ]
  },
  {
   "cell_type": "code",
   "execution_count": 4,
   "metadata": {},
   "outputs": [],
   "source": [
    "import pandas as pd\n",
    "from tabulate import tabulate"
   ]
  },
  {
   "cell_type": "markdown",
   "metadata": {},
   "source": [
    "## Dataset"
   ]
  },
  {
   "cell_type": "code",
   "execution_count": 3,
   "metadata": {},
   "outputs": [
    {
     "data": {
      "text/html": [
       "<div>\n",
       "<style scoped>\n",
       "    .dataframe tbody tr th:only-of-type {\n",
       "        vertical-align: middle;\n",
       "    }\n",
       "\n",
       "    .dataframe tbody tr th {\n",
       "        vertical-align: top;\n",
       "    }\n",
       "\n",
       "    .dataframe thead th {\n",
       "        text-align: right;\n",
       "    }\n",
       "</style>\n",
       "<table border=\"1\" class=\"dataframe\">\n",
       "  <thead>\n",
       "    <tr style=\"text-align: right;\">\n",
       "      <th></th>\n",
       "      <th>WIND</th>\n",
       "      <th>IND</th>\n",
       "      <th>RAIN</th>\n",
       "      <th>IND.1</th>\n",
       "      <th>T.MAX</th>\n",
       "      <th>IND.2</th>\n",
       "      <th>T.MIN</th>\n",
       "      <th>T.MIN.G</th>\n",
       "    </tr>\n",
       "    <tr>\n",
       "      <th>DATE</th>\n",
       "      <th></th>\n",
       "      <th></th>\n",
       "      <th></th>\n",
       "      <th></th>\n",
       "      <th></th>\n",
       "      <th></th>\n",
       "      <th></th>\n",
       "      <th></th>\n",
       "    </tr>\n",
       "  </thead>\n",
       "  <tbody>\n",
       "    <tr>\n",
       "      <th>1961-01-01</th>\n",
       "      <td>13.67</td>\n",
       "      <td>0</td>\n",
       "      <td>0.2</td>\n",
       "      <td>0.0</td>\n",
       "      <td>9.5</td>\n",
       "      <td>0.0</td>\n",
       "      <td>3.7</td>\n",
       "      <td>-1.0</td>\n",
       "    </tr>\n",
       "    <tr>\n",
       "      <th>1961-01-02</th>\n",
       "      <td>11.50</td>\n",
       "      <td>0</td>\n",
       "      <td>5.1</td>\n",
       "      <td>0.0</td>\n",
       "      <td>7.2</td>\n",
       "      <td>0.0</td>\n",
       "      <td>4.2</td>\n",
       "      <td>1.1</td>\n",
       "    </tr>\n",
       "    <tr>\n",
       "      <th>1961-01-03</th>\n",
       "      <td>11.25</td>\n",
       "      <td>0</td>\n",
       "      <td>0.4</td>\n",
       "      <td>0.0</td>\n",
       "      <td>5.5</td>\n",
       "      <td>0.0</td>\n",
       "      <td>0.5</td>\n",
       "      <td>-0.5</td>\n",
       "    </tr>\n",
       "    <tr>\n",
       "      <th>1961-01-04</th>\n",
       "      <td>8.63</td>\n",
       "      <td>0</td>\n",
       "      <td>0.2</td>\n",
       "      <td>0.0</td>\n",
       "      <td>5.6</td>\n",
       "      <td>0.0</td>\n",
       "      <td>0.4</td>\n",
       "      <td>-3.2</td>\n",
       "    </tr>\n",
       "    <tr>\n",
       "      <th>1961-01-05</th>\n",
       "      <td>11.92</td>\n",
       "      <td>0</td>\n",
       "      <td>10.4</td>\n",
       "      <td>0.0</td>\n",
       "      <td>7.2</td>\n",
       "      <td>1.0</td>\n",
       "      <td>-1.5</td>\n",
       "      <td>-7.5</td>\n",
       "    </tr>\n",
       "  </tbody>\n",
       "</table>\n",
       "</div>"
      ],
      "text/plain": [
       "             WIND  IND  RAIN  IND.1  T.MAX  IND.2  T.MIN  T.MIN.G\n",
       "DATE                                                             \n",
       "1961-01-01  13.67    0   0.2    0.0    9.5    0.0    3.7     -1.0\n",
       "1961-01-02  11.50    0   5.1    0.0    7.2    0.0    4.2      1.1\n",
       "1961-01-03  11.25    0   0.4    0.0    5.5    0.0    0.5     -0.5\n",
       "1961-01-04   8.63    0   0.2    0.0    5.6    0.0    0.4     -3.2\n",
       "1961-01-05  11.92    0  10.4    0.0    7.2    1.0   -1.5     -7.5"
      ]
     },
     "execution_count": 3,
     "metadata": {},
     "output_type": "execute_result"
    }
   ],
   "source": [
    "df = pd.read_csv('wind_dataset.csv', parse_dates=True, index_col=0)\n",
    "df.head()"
   ]
  },
  {
   "cell_type": "code",
   "execution_count": 10,
   "metadata": {},
   "outputs": [
    {
     "name": "stdout",
     "output_type": "stream",
     "text": [
      "╭─────────┬────────┬───────┬───────┬───────┬───────┬───────┬───────╮\n",
      "│         │   mean │   std │   min │   25% │   50% │   75% │   max │\n",
      "├─────────┼────────┼───────┼───────┼───────┼───────┼───────┼───────┤\n",
      "│ WIND    │   9.8  │  4.98 │   0   │   6   │  9.21 │ 12.96 │ 30.37 │\n",
      "├─────────┼────────┼───────┼───────┼───────┼───────┼───────┼───────┤\n",
      "│ IND     │   0.39 │  1.18 │   0   │   0   │  0    │  0    │  4    │\n",
      "├─────────┼────────┼───────┼───────┼───────┼───────┼───────┼───────┤\n",
      "│ RAIN    │   1.89 │  4.03 │   0   │   0   │  0.2  │  2    │ 67    │\n",
      "├─────────┼────────┼───────┼───────┼───────┼───────┼───────┼───────┤\n",
      "│ IND.1   │   0.36 │  1.13 │   0   │   0   │  0    │  0    │  4    │\n",
      "├─────────┼────────┼───────┼───────┼───────┼───────┼───────┼───────┤\n",
      "│ T.MAX   │  13.34 │  4.89 │  -0.1 │   9.6 │ 13.3  │ 17.2  │ 26.8  │\n",
      "├─────────┼────────┼───────┼───────┼───────┼───────┼───────┼───────┤\n",
      "│ IND.2   │   0.46 │  1.18 │   0   │   0   │  0    │  0    │  4    │\n",
      "├─────────┼────────┼───────┼───────┼───────┼───────┼───────┼───────┤\n",
      "│ T.MIN   │   6.41 │  4.64 │ -11.5 │   3   │  6.5  │ 10    │ 18    │\n",
      "├─────────┼────────┼───────┼───────┼───────┼───────┼───────┼───────┤\n",
      "│ T.MIN.G │   2.74 │  5.57 │ -14.4 │  -1   │  3    │  7    │ 15.8  │\n",
      "╰─────────┴────────┴───────┴───────┴───────┴───────┴───────┴───────╯\n"
     ]
    }
   ],
   "source": [
    "summary = df.describe().transpose().round(2)\n",
    "summary = summary.drop('count', axis=1)\n",
    "table = tabulate(summary, headers='keys', tablefmt='rounded_grid')\n",
    "print(table)"
   ]
  }
 ],
 "metadata": {
  "kernelspec": {
   "display_name": ".venv",
   "language": "python",
   "name": "python3"
  },
  "language_info": {
   "codemirror_mode": {
    "name": "ipython",
    "version": 3
   },
   "file_extension": ".py",
   "mimetype": "text/x-python",
   "name": "python",
   "nbconvert_exporter": "python",
   "pygments_lexer": "ipython3",
   "version": "3.9.17"
  }
 },
 "nbformat": 4,
 "nbformat_minor": 2
}
